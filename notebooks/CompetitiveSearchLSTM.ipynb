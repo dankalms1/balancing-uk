{
  "cells": [
    {
      "cell_type": "code",
      "execution_count": 6,
      "id": "fd9dac3f",
      "metadata": {
        "id": "fd9dac3f",
        "outputId": "e57a9fb1-248b-4357-ba92-10445b76aaaa",
        "colab": {
          "base_uri": "https://localhost:8080/"
        }
      },
      "outputs": [
        {
          "output_type": "stream",
          "name": "stdout",
          "text": [
            "> Using device: cuda\n"
          ]
        }
      ],
      "source": [
        "import os, sys, random, json, copy\n",
        "from datetime import datetime, timezone\n",
        "\n",
        "import numpy as np\n",
        "import pandas as pd\n",
        "\n",
        "import torch\n",
        "import torch.nn as nn\n",
        "from torch.utils.data import Dataset, DataLoader\n",
        "\n",
        "from sklearn.compose import ColumnTransformer\n",
        "from sklearn.preprocessing import (\n",
        "    MinMaxScaler, StandardScaler, RobustScaler, MaxAbsScaler\n",
        ")\n",
        "from sklearn.metrics import mean_absolute_error, mean_squared_error\n",
        "\n",
        "import optuna\n",
        "from optuna.samplers import TPESampler\n",
        "from optuna.pruners import MedianPruner\n",
        "\n",
        "# set deterministic seeds\n",
        "SEED = 42\n",
        "torch.manual_seed(SEED)\n",
        "np.random.seed(SEED)\n",
        "random.seed(SEED)\n",
        "\n",
        "# pick device\n",
        "device = (\n",
        "    torch.device(\"cuda\")\n",
        "    if torch.cuda.is_available() else\n",
        "    torch.device(\"mps\")\n",
        "    if torch.backends.mps.is_available() else\n",
        "    torch.device(\"cpu\")\n",
        ")\n",
        "print(f\"> Using device: {device}\")"
      ]
    },
    {
      "cell_type": "markdown",
      "id": "0da3249b",
      "metadata": {
        "id": "0da3249b"
      },
      "source": [
        "## 1. Data Loading and Feature Engineering"
      ]
    },
    {
      "cell_type": "code",
      "execution_count": 7,
      "id": "853f7a3f",
      "metadata": {
        "id": "853f7a3f"
      },
      "outputs": [],
      "source": [
        "# Load the data\n",
        "df = pd.read_csv(\"df_all.csv\", index_col=\"startTime\", parse_dates=True)\n",
        "\n",
        "# Crop the DataFrame to the specified date range\n",
        "df = df.loc[\"2021-07-01\":\"2025-06-30\"]\n",
        "\n",
        "# Drop unnecessary columns\n",
        "df = df.drop(columns=[\n",
        "    'Forecast Wind',\n",
        "    'Forecast Solar',\n",
        "    'Actual Wind',\n",
        "    'Actual Solar',\n",
        "    'Settlement Period',\n",
        "])\n",
        "\n",
        "# Calculate time of day features\n",
        "minutes = df.index.hour * 60 + df.index.minute\n",
        "frac_day = minutes / (24 * 60)\n",
        "df['tod_sin'] = np.sin(2 * np.pi * frac_day)\n",
        "df['tod_cos'] = np.cos(2 * np.pi * frac_day)\n",
        "\n",
        "# Calculate day of week features\n",
        "day_of_week = df.index.dayofweek\n",
        "frac_week = day_of_week / 7\n",
        "df['dow_sin'] = np.sin(2 * np.pi * frac_week)\n",
        "df['dow_cos'] = np.cos(2 * np.pi * frac_week)\n",
        "\n",
        "# Calculate month of year features\n",
        "month = df.index.month\n",
        "frac_year = (month - 1) / 12\n",
        "df['moy_sin'] = np.sin(2 * np.pi * frac_year)\n",
        "df['moy_cos'] = np.cos(2 * np.pi * frac_year)\n",
        "\n",
        "\n",
        "# — splits\n",
        "train_end = '2025-03-01'  # start of validation\n",
        "val_end   = '2025-05-01'  # start of test\n",
        "\n",
        "# slice once …\n",
        "train_df = df.loc[:train_end]\n",
        "val_df   = df.loc[train_end:val_end]\n",
        "test_df  = df.loc[val_end:]\n",
        "\n",
        "# … then unpack X & y in one go without repeating .drop\n",
        "X_train, y_train = train_df.drop(columns=['Imbalance Price']), train_df['Imbalance Price']\n",
        "X_val,      y_val      = val_df.drop(columns=['Imbalance Price']),    val_df['Imbalance Price']\n",
        "X_test,     y_test     = test_df.drop(columns=['Imbalance Price']),   test_df['Imbalance Price']\n",
        "\n",
        "\n",
        "# lists of feature‐columns\n",
        "time_feats  = [c for c in ['tod_sin','tod_cos','dow_sin','dow_cos','moy_sin','moy_cos'] if c in df]\n",
        "other_feats = [c for c in X_train.columns if c not in time_feats]"
      ]
    },
    {
      "cell_type": "markdown",
      "id": "23b120e2",
      "metadata": {
        "id": "23b120e2"
      },
      "source": [
        "## 2. Models, Dataset & Factories"
      ]
    },
    {
      "cell_type": "code",
      "execution_count": 8,
      "id": "101baa78",
      "metadata": {
        "id": "101baa78"
      },
      "outputs": [],
      "source": [
        "# ──────────── a. Dataset Definition ─────────────────────────────────\n",
        "\n",
        "class LSTMDataset(Dataset):\n",
        "    def __init__(self, X, y, seq_len, horizon=1):\n",
        "        self.X = torch.as_tensor(X, dtype=torch.float32)\n",
        "        self.y = torch.as_tensor(y, dtype=torch.float32)\n",
        "        self.seq_len = seq_len\n",
        "        self.horizon = horizon\n",
        "\n",
        "    def __len__(self):\n",
        "        return self.X.shape[0] - self.seq_len - self.horizon + 1\n",
        "\n",
        "    def __getitem__(self, idx):\n",
        "        x_seq    = self.X[idx : idx + self.seq_len]\n",
        "        target_i = idx + self.seq_len - 1 + self.horizon\n",
        "        y_target = self.y[target_i]\n",
        "        return x_seq, y_target\n",
        "\n",
        "\n",
        "# ──────────── b. Layer Definitions ──────────────────────────────────\n",
        "\n",
        "class SeasonalAttn(nn.Module):\n",
        "    def __init__(self, seq_len=48):\n",
        "        super().__init__()\n",
        "        self.attn = nn.Parameter(torch.empty(seq_len))\n",
        "        nn.init.uniform_(self.attn, -0.01, 0.01)\n",
        "\n",
        "    def forward(self, x):\n",
        "        return x * self.attn.view(1, -1, 1) # (B,N,F)\n",
        "\n",
        "\n",
        "class BiLSTM(nn.Module):\n",
        "    def __init__(self, num_feats, hidden_size=64, num_layers=2):\n",
        "        super().__init__()\n",
        "        self.lstm = nn.LSTM(\n",
        "            input_size=num_feats,\n",
        "            hidden_size=hidden_size,\n",
        "            num_layers=num_layers,\n",
        "            bidirectional=True,\n",
        "            batch_first=True,\n",
        "        )\n",
        "\n",
        "    def forward(self, x):\n",
        "        out, (_ , _) = self.lstm(x)\n",
        "        return out\n",
        "\n",
        "\n",
        "class AttentionPool(nn.Module):\n",
        "    def __init__(self, input_dim, hidden_dim):\n",
        "        super().__init__()\n",
        "        self.W_h = nn.Linear(input_dim, hidden_dim)\n",
        "        self.v = nn.Linear(hidden_dim, 1, bias=False)\n",
        "\n",
        "    def forward(self, x):\n",
        "        e = self.v(torch.tanh(self.W_h(x)))   # (B, N, 1)\n",
        "        alpha = torch.softmax(e, dim=1)       # (B, N, 1)\n",
        "        context = torch.sum(alpha * x, dim=1) # (B, 2H)\n",
        "        return context\n",
        "\n",
        "\n",
        "# ──────────── c. Model Definitions ──────────────────────────────────\n",
        "\n",
        "class SA_BiLSTM(nn.Module):\n",
        "    def __init__(self, num_feats, seq_len=48, hidden_size=64, num_layers=2):\n",
        "        super().__init__()\n",
        "        self.seasonal = SeasonalAttn(seq_len)\n",
        "        self.lstm = BiLSTM(num_feats, hidden_size, num_layers)\n",
        "        self.fc = nn.Linear(hidden_size * 2, 1)\n",
        "\n",
        "    def forward(self, x):\n",
        "        x = self.seasonal(x)       # (B, N, F)\n",
        "        out = self.lstm(x)         # (B, N, 2H)\n",
        "        last = out[:, -1, :]       # (B, 2H)\n",
        "        return self.fc(last).squeeze(-1)  # (B,)\n",
        "\n",
        "\n",
        "class SA_BiLSTM_AttnPool(nn.Module):\n",
        "    def __init__(self, num_feats, seq_len=48, hidden_size=64, num_layers=2):\n",
        "        super().__init__()\n",
        "        self.seasonal = SeasonalAttn(seq_len)\n",
        "        self.lstm = BiLSTM(num_feats, hidden_size, num_layers)\n",
        "        self.pool = AttentionPool(input_dim=hidden_size * 2, hidden_dim=hidden_size)\n",
        "        self.fc = nn.Linear(hidden_size * 2, 1)\n",
        "\n",
        "    def forward(self, x):\n",
        "        x = self.seasonal(x)       # (B, N, F)\n",
        "        out = self.lstm(x)         # (B, N, 2H)\n",
        "        context = self.pool(out)   # (B, 2H)\n",
        "        return self.fc(context).squeeze(-1)  # (B,)\n",
        "\n",
        "TRANSFORMER_FACTORY = {\n",
        "    \"MinMax\":   MinMaxScaler,\n",
        "    \"Standard\": StandardScaler,\n",
        "    \"Robust\":   RobustScaler,\n",
        "    \"MaxAbs\":   MaxAbsScaler\n",
        "}\n",
        "MODEL_FACTORY = {\n",
        "    \"SA_BiLSTM\":             SA_BiLSTM,\n",
        "    \"SA_BiLSTM_AttnPool\":    SA_BiLSTM_AttnPool\n",
        "}\n",
        "LOSS_FACTORY = {\n",
        "    \"MSE\":    nn.MSELoss,\n",
        "    \"MAE\":    nn.L1Loss,\n",
        "    \"Huber\":  nn.SmoothL1Loss\n",
        "}\n"
      ]
    },
    {
      "cell_type": "markdown",
      "id": "d0c86939",
      "metadata": {
        "id": "d0c86939"
      },
      "source": [
        "## 3. Search Stage 1 -- Big 3"
      ]
    },
    {
      "cell_type": "code",
      "execution_count": 9,
      "id": "14629f9f",
      "metadata": {
        "id": "14629f9f",
        "outputId": "442fbf2d-7659-4ccd-befb-6e79f3c60527",
        "colab": {
          "base_uri": "https://localhost:8080/"
        }
      },
      "outputs": [
        {
          "output_type": "stream",
          "name": "stderr",
          "text": [
            "[I 2025-07-29 15:18:17,995] A new study created in memory with name: no-name-47312671-c8ac-4f4b-b4a0-e1725b68b9e1\n",
            "/tmp/ipython-input-9-2069821114.py:3: FutureWarning: suggest_loguniform has been deprecated in v3.0.0. This feature will be removed in v6.0.0. See https://github.com/optuna/optuna/releases/tag/v3.0.0. Use suggest_float(..., log=True) instead.\n",
            "  lr          = trial.suggest_loguniform(\"lr\", 1e-5, 1e-3)\n"
          ]
        },
        {
          "output_type": "stream",
          "name": "stdout",
          "text": [
            "\n",
            "→ Trial 0: lr=1.44e-04, hidden=128, bs=128\n",
            "[Trial 0] Epoch 01/20  train=0.0127  val=0.0033\n",
            "[Trial 0] Epoch 02/20  train=0.0086  val=0.0034\n",
            "[Trial 0] Epoch 03/20  train=0.0073  val=0.0025\n",
            "[Trial 0] Epoch 04/20  train=0.0068  val=0.0027\n",
            "[Trial 0] Epoch 05/20  train=0.0063  val=0.0024\n",
            "[Trial 0] Epoch 06/20  train=0.0061  val=0.0023\n",
            "[Trial 0] Epoch 07/20  train=0.0059  val=0.0023\n",
            "[Trial 0] Epoch 08/20  train=0.0059  val=0.0020\n",
            "[Trial 0] Epoch 09/20  train=0.0060  val=0.0020\n",
            "[Trial 0] Epoch 10/20  train=0.0058  val=0.0024\n",
            "[Trial 0] Epoch 11/20  train=0.0059  val=0.0023\n",
            "[Trial 0] Epoch 12/20  train=0.0057  val=0.0022\n",
            "[Trial 0] Epoch 13/20  train=0.0057  val=0.0019\n",
            "[Trial 0] Epoch 14/20  train=0.0057  val=0.0023\n",
            "[Trial 0] Epoch 15/20  train=0.0058  val=0.0019\n",
            "[Trial 0] Epoch 16/20  train=0.0057  val=0.0022\n",
            "[Trial 0] Epoch 17/20  train=0.0057  val=0.0023\n",
            "[Trial 0] Epoch 18/20  train=0.0057  val=0.0018\n",
            "[Trial 0] Epoch 19/20  train=0.0056  val=0.0018\n"
          ]
        },
        {
          "output_type": "stream",
          "name": "stderr",
          "text": [
            "[I 2025-07-29 15:20:32,848] Trial 0 finished with value: 0.0018062540279377413 and parameters: {'lr': 0.00014391731750860453, 'hidden_size': 128, 'batch_size': 128}. Best is trial 0 with value: 0.0018062540279377413.\n"
          ]
        },
        {
          "output_type": "stream",
          "name": "stdout",
          "text": [
            "[Trial 0] Epoch 20/20  train=0.0057  val=0.0018\n",
            "→ Trial 0 finished: best_val=0.0018  MAE=19.3820  RMSE=24.9520  sMAPE=32.10%\n",
            "\n",
            "→ Trial 1: lr=1.04e-04, hidden=64, bs=128\n"
          ]
        },
        {
          "output_type": "stream",
          "name": "stderr",
          "text": [
            "/tmp/ipython-input-9-2069821114.py:3: FutureWarning: suggest_loguniform has been deprecated in v3.0.0. This feature will be removed in v6.0.0. See https://github.com/optuna/optuna/releases/tag/v3.0.0. Use suggest_float(..., log=True) instead.\n",
            "  lr          = trial.suggest_loguniform(\"lr\", 1e-5, 1e-3)\n"
          ]
        },
        {
          "output_type": "stream",
          "name": "stdout",
          "text": [
            "[Trial 1] Epoch 01/20  train=0.0124  val=0.0030\n",
            "[Trial 1] Epoch 02/20  train=0.0096  val=0.0044\n",
            "[Trial 1] Epoch 03/20  train=0.0082  val=0.0040\n",
            "[Trial 1] Epoch 04/20  train=0.0073  val=0.0044\n",
            "[Trial 1] Epoch 05/20  train=0.0069  val=0.0033\n",
            "[Trial 1] Epoch 06/20  train=0.0066  val=0.0047\n",
            "[Trial 1] Epoch 07/20  train=0.0065  val=0.0027\n",
            "[Trial 1] Epoch 08/20  train=0.0064  val=0.0025\n",
            "[Trial 1] Epoch 09/20  train=0.0063  val=0.0040\n",
            "[Trial 1] Epoch 10/20  train=0.0062  val=0.0024\n",
            "[Trial 1] Epoch 11/20  train=0.0061  val=0.0023\n",
            "[Trial 1] Epoch 12/20  train=0.0061  val=0.0022\n",
            "[Trial 1] Epoch 13/20  train=0.0061  val=0.0022\n",
            "[Trial 1] Epoch 14/20  train=0.0060  val=0.0021\n",
            "[Trial 1] Epoch 15/20  train=0.0059  val=0.0022\n",
            "[Trial 1] Epoch 16/20  train=0.0059  val=0.0020\n",
            "[Trial 1] Epoch 17/20  train=0.0058  val=0.0024\n",
            "[Trial 1] Epoch 18/20  train=0.0058  val=0.0021\n",
            "[Trial 1] Epoch 19/20  train=0.0058  val=0.0021\n"
          ]
        },
        {
          "output_type": "stream",
          "name": "stderr",
          "text": [
            "[I 2025-07-29 15:21:21,464] Trial 1 finished with value: 0.001961229662613376 and parameters: {'lr': 0.00010417357283862782, 'hidden_size': 64, 'batch_size': 128}. Best is trial 0 with value: 0.0018062540279377413.\n"
          ]
        },
        {
          "output_type": "stream",
          "name": "stdout",
          "text": [
            "[Trial 1] Epoch 20/20  train=0.0057  val=0.0020\n",
            "→ Trial 1 finished: best_val=0.0020  MAE=20.4642  RMSE=26.0129  sMAPE=34.21%\n",
            "\n",
            "→ Trial 2: lr=2.20e-04, hidden=64, bs=128\n"
          ]
        },
        {
          "output_type": "stream",
          "name": "stderr",
          "text": [
            "/tmp/ipython-input-9-2069821114.py:3: FutureWarning: suggest_loguniform has been deprecated in v3.0.0. This feature will be removed in v6.0.0. See https://github.com/optuna/optuna/releases/tag/v3.0.0. Use suggest_float(..., log=True) instead.\n",
            "  lr          = trial.suggest_loguniform(\"lr\", 1e-5, 1e-3)\n"
          ]
        },
        {
          "output_type": "stream",
          "name": "stdout",
          "text": [
            "[Trial 2] Epoch 01/20  train=0.0122  val=0.0036\n",
            "[Trial 2] Epoch 02/20  train=0.0083  val=0.0030\n",
            "[Trial 2] Epoch 03/20  train=0.0069  val=0.0039\n",
            "[Trial 2] Epoch 04/20  train=0.0064  val=0.0024\n",
            "[Trial 2] Epoch 05/20  train=0.0061  val=0.0023\n",
            "[Trial 2] Epoch 06/20  train=0.0059  val=0.0020\n",
            "[Trial 2] Epoch 07/20  train=0.0059  val=0.0019\n",
            "[Trial 2] Epoch 08/20  train=0.0058  val=0.0019\n",
            "[Trial 2] Epoch 09/20  train=0.0058  val=0.0022\n",
            "[Trial 2] Epoch 10/20  train=0.0057  val=0.0020\n",
            "[Trial 2] Epoch 11/20  train=0.0057  val=0.0020\n",
            "[Trial 2] Epoch 12/20  train=0.0057  val=0.0019\n",
            "[Trial 2] Epoch 13/20  train=0.0057  val=0.0019\n",
            "[Trial 2] Epoch 14/20  train=0.0057  val=0.0021\n",
            "[Trial 2] Epoch 15/20  train=0.0057  val=0.0018\n",
            "[Trial 2] Epoch 16/20  train=0.0057  val=0.0019\n",
            "[Trial 2] Epoch 17/20  train=0.0057  val=0.0020\n",
            "[Trial 2] Epoch 18/20  train=0.0056  val=0.0020\n",
            "[Trial 2] Epoch 19/20  train=0.0056  val=0.0018\n"
          ]
        },
        {
          "output_type": "stream",
          "name": "stderr",
          "text": [
            "[I 2025-07-29 15:22:10,406] Trial 2 finished with value: 0.0017913100157823899 and parameters: {'lr': 0.00022008850294786365, 'hidden_size': 64, 'batch_size': 128}. Best is trial 2 with value: 0.0017913100157823899.\n"
          ]
        },
        {
          "output_type": "stream",
          "name": "stdout",
          "text": [
            "[Trial 2] Epoch 20/20  train=0.0056  val=0.0018\n",
            "→ Trial 2 finished: best_val=0.0018  MAE=19.3175  RMSE=24.8319  sMAPE=32.17%\n",
            "\n",
            "→ Trial 3: lr=5.34e-05, hidden=128, bs=128\n"
          ]
        },
        {
          "output_type": "stream",
          "name": "stderr",
          "text": [
            "/tmp/ipython-input-9-2069821114.py:3: FutureWarning: suggest_loguniform has been deprecated in v3.0.0. This feature will be removed in v6.0.0. See https://github.com/optuna/optuna/releases/tag/v3.0.0. Use suggest_float(..., log=True) instead.\n",
            "  lr          = trial.suggest_loguniform(\"lr\", 1e-5, 1e-3)\n"
          ]
        },
        {
          "output_type": "stream",
          "name": "stdout",
          "text": [
            "[Trial 3] Epoch 01/20  train=0.0128  val=0.0045\n",
            "[Trial 3] Epoch 02/20  train=0.0112  val=0.0038\n",
            "[Trial 3] Epoch 03/20  train=0.0093  val=0.0038\n",
            "[Trial 3] Epoch 04/20  train=0.0083  val=0.0050\n",
            "[Trial 3] Epoch 05/20  train=0.0075  val=0.0043\n",
            "[Trial 3] Epoch 06/20  train=0.0070  val=0.0038\n",
            "[Trial 3] Epoch 07/20  train=0.0068  val=0.0035\n",
            "[Trial 3] Epoch 08/20  train=0.0066  val=0.0033\n",
            "[Trial 3] Epoch 09/20  train=0.0064  val=0.0035\n",
            "[Trial 3] Epoch 10/20  train=0.0063  val=0.0039\n",
            "[Trial 3] Epoch 11/20  train=0.0063  val=0.0024\n",
            "[Trial 3] Epoch 12/20  train=0.0062  val=0.0028\n",
            "[Trial 3] Epoch 13/20  train=0.0061  val=0.0023\n",
            "[Trial 3] Epoch 14/20  train=0.0060  val=0.0023\n",
            "[Trial 3] Epoch 15/20  train=0.0060  val=0.0022\n",
            "[Trial 3] Epoch 16/20  train=0.0059  val=0.0024\n",
            "[Trial 3] Epoch 17/20  train=0.0059  val=0.0028\n",
            "[Trial 3] Epoch 18/20  train=0.0059  val=0.0021\n",
            "[Trial 3] Epoch 19/20  train=0.0058  val=0.0028\n"
          ]
        },
        {
          "output_type": "stream",
          "name": "stderr",
          "text": [
            "[I 2025-07-29 15:24:20,943] Trial 3 finished with value: 0.002020339547332538 and parameters: {'lr': 5.343266341574893e-05, 'hidden_size': 128, 'batch_size': 128}. Best is trial 2 with value: 0.0017913100157823899.\n"
          ]
        },
        {
          "output_type": "stream",
          "name": "stdout",
          "text": [
            "[Trial 3] Epoch 20/20  train=0.0058  val=0.0020\n",
            "→ Trial 3 finished: best_val=0.0020  MAE=20.7261  RMSE=26.4287  sMAPE=34.52%\n",
            "\n",
            "→ Trial 4: lr=6.41e-05, hidden=256, bs=64\n"
          ]
        },
        {
          "output_type": "stream",
          "name": "stderr",
          "text": [
            "/tmp/ipython-input-9-2069821114.py:3: FutureWarning: suggest_loguniform has been deprecated in v3.0.0. This feature will be removed in v6.0.0. See https://github.com/optuna/optuna/releases/tag/v3.0.0. Use suggest_float(..., log=True) instead.\n",
            "  lr          = trial.suggest_loguniform(\"lr\", 1e-5, 1e-3)\n"
          ]
        },
        {
          "output_type": "stream",
          "name": "stdout",
          "text": [
            "[Trial 4] Epoch 01/20  train=0.0113  val=0.0040\n",
            "[Trial 4] Epoch 02/20  train=0.0083  val=0.0043\n",
            "[Trial 4] Epoch 03/20  train=0.0071  val=0.0038\n",
            "[Trial 4] Epoch 04/20  train=0.0066  val=0.0034\n",
            "[Trial 4] Epoch 05/20  train=0.0064  val=0.0034\n",
            "[Trial 4] Epoch 06/20  train=0.0061  val=0.0021\n",
            "[Trial 4] Epoch 07/20  train=0.0060  val=0.0021\n",
            "[Trial 4] Epoch 08/20  train=0.0059  val=0.0021\n",
            "[Trial 4] Epoch 09/20  train=0.0058  val=0.0019\n",
            "[Trial 4] Epoch 10/20  train=0.0058  val=0.0022\n",
            "[Trial 4] Epoch 11/20  train=0.0058  val=0.0018\n",
            "[Trial 4] Epoch 12/20  train=0.0057  val=0.0022\n",
            "[Trial 4] Epoch 13/20  train=0.0057  val=0.0019\n",
            "[Trial 4] Epoch 14/20  train=0.0057  val=0.0019\n",
            "[Trial 4] Epoch 15/20  train=0.0057  val=0.0022\n",
            "[Trial 4] Epoch 16/20  train=0.0057  val=0.0018\n",
            "[Trial 4] Epoch 17/20  train=0.0056  val=0.0021\n",
            "[Trial 4] Epoch 18/20  train=0.0056  val=0.0021\n",
            "[Trial 4] Epoch 19/20  train=0.0056  val=0.0019\n",
            "[Trial 4] Epoch 20/20  train=0.0056  val=0.0019\n"
          ]
        },
        {
          "output_type": "stream",
          "name": "stderr",
          "text": [
            "[I 2025-07-29 15:30:27,075] Trial 4 finished with value: 0.0018214798094603516 and parameters: {'lr': 6.408584457072414e-05, 'hidden_size': 256, 'batch_size': 64}. Best is trial 2 with value: 0.0017913100157823899.\n"
          ]
        },
        {
          "output_type": "stream",
          "name": "stdout",
          "text": [
            "→ Trial 4 finished: best_val=0.0018  MAE=19.5465  RMSE=25.0125  sMAPE=32.80%\n",
            "\n",
            "→ Trial 5: lr=7.31e-05, hidden=64, bs=256\n"
          ]
        },
        {
          "output_type": "stream",
          "name": "stderr",
          "text": [
            "/tmp/ipython-input-9-2069821114.py:3: FutureWarning: suggest_loguniform has been deprecated in v3.0.0. This feature will be removed in v6.0.0. See https://github.com/optuna/optuna/releases/tag/v3.0.0. Use suggest_float(..., log=True) instead.\n",
            "  lr          = trial.suggest_loguniform(\"lr\", 1e-5, 1e-3)\n"
          ]
        },
        {
          "output_type": "stream",
          "name": "stdout",
          "text": [
            "[Trial 5] Epoch 01/20  train=0.0135  val=0.0048\n",
            "[Trial 5] Epoch 02/20  train=0.0125  val=0.0044\n",
            "[Trial 5] Epoch 03/20  train=0.0117  val=0.0033\n",
            "[Trial 5] Epoch 04/20  train=0.0102  val=0.0038\n"
          ]
        },
        {
          "output_type": "stream",
          "name": "stderr",
          "text": [
            "[I 2025-07-29 15:30:37,148] Trial 5 pruned. \n"
          ]
        },
        {
          "output_type": "stream",
          "name": "stdout",
          "text": [
            "[Trial 5] Epoch 05/20  train=0.0093  val=0.0040\n",
            "→ Trial 5 pruned at epoch 5\n",
            "\n",
            "→ Trial 6: lr=1.45e-04, hidden=32, bs=256\n"
          ]
        },
        {
          "output_type": "stream",
          "name": "stderr",
          "text": [
            "/tmp/ipython-input-9-2069821114.py:3: FutureWarning: suggest_loguniform has been deprecated in v3.0.0. This feature will be removed in v6.0.0. See https://github.com/optuna/optuna/releases/tag/v3.0.0. Use suggest_float(..., log=True) instead.\n",
            "  lr          = trial.suggest_loguniform(\"lr\", 1e-5, 1e-3)\n"
          ]
        },
        {
          "output_type": "stream",
          "name": "stdout",
          "text": [
            "[Trial 6] Epoch 01/20  train=0.0129  val=0.0045\n",
            "[Trial 6] Epoch 02/20  train=0.0119  val=0.0034\n",
            "[Trial 6] Epoch 03/20  train=0.0099  val=0.0038\n",
            "[Trial 6] Epoch 04/20  train=0.0088  val=0.0045\n"
          ]
        },
        {
          "output_type": "stream",
          "name": "stderr",
          "text": [
            "[I 2025-07-29 15:30:44,477] Trial 6 pruned. \n"
          ]
        },
        {
          "output_type": "stream",
          "name": "stdout",
          "text": [
            "[Trial 6] Epoch 05/20  train=0.0078  val=0.0033\n",
            "→ Trial 6 pruned at epoch 5\n",
            "\n",
            "→ Trial 7: lr=1.50e-04, hidden=128, bs=256\n"
          ]
        },
        {
          "output_type": "stream",
          "name": "stderr",
          "text": [
            "/tmp/ipython-input-9-2069821114.py:3: FutureWarning: suggest_loguniform has been deprecated in v3.0.0. This feature will be removed in v6.0.0. See https://github.com/optuna/optuna/releases/tag/v3.0.0. Use suggest_float(..., log=True) instead.\n",
            "  lr          = trial.suggest_loguniform(\"lr\", 1e-5, 1e-3)\n"
          ]
        },
        {
          "output_type": "stream",
          "name": "stdout",
          "text": [
            "[Trial 7] Epoch 01/20  train=0.0128  val=0.0051\n",
            "[Trial 7] Epoch 02/20  train=0.0105  val=0.0046\n",
            "[Trial 7] Epoch 03/20  train=0.0080  val=0.0028\n",
            "[Trial 7] Epoch 04/20  train=0.0071  val=0.0029\n",
            "[Trial 7] Epoch 05/20  train=0.0068  val=0.0028\n"
          ]
        },
        {
          "output_type": "stream",
          "name": "stderr",
          "text": [
            "[I 2025-07-29 15:31:21,301] Trial 7 pruned. \n"
          ]
        },
        {
          "output_type": "stream",
          "name": "stdout",
          "text": [
            "[Trial 7] Epoch 06/20  train=0.0066  val=0.0031\n",
            "→ Trial 7 pruned at epoch 6\n",
            "\n",
            "→ Trial 8: lr=1.88e-05, hidden=128, bs=256\n"
          ]
        },
        {
          "output_type": "stream",
          "name": "stderr",
          "text": [
            "/tmp/ipython-input-9-2069821114.py:3: FutureWarning: suggest_loguniform has been deprecated in v3.0.0. This feature will be removed in v6.0.0. See https://github.com/optuna/optuna/releases/tag/v3.0.0. Use suggest_float(..., log=True) instead.\n",
            "  lr          = trial.suggest_loguniform(\"lr\", 1e-5, 1e-3)\n"
          ]
        },
        {
          "output_type": "stream",
          "name": "stdout",
          "text": [
            "[Trial 8] Epoch 01/20  train=0.0129  val=0.0046\n",
            "[Trial 8] Epoch 02/20  train=0.0128  val=0.0047\n",
            "[Trial 8] Epoch 03/20  train=0.0128  val=0.0048\n",
            "[Trial 8] Epoch 04/20  train=0.0126  val=0.0046\n"
          ]
        },
        {
          "output_type": "stream",
          "name": "stderr",
          "text": [
            "[I 2025-07-29 15:31:51,778] Trial 8 pruned. \n"
          ]
        },
        {
          "output_type": "stream",
          "name": "stdout",
          "text": [
            "[Trial 8] Epoch 05/20  train=0.0123  val=0.0046\n",
            "→ Trial 8 pruned at epoch 5\n",
            "\n",
            "→ Trial 9: lr=1.97e-04, hidden=32, bs=64\n"
          ]
        },
        {
          "output_type": "stream",
          "name": "stderr",
          "text": [
            "/tmp/ipython-input-9-2069821114.py:3: FutureWarning: suggest_loguniform has been deprecated in v3.0.0. This feature will be removed in v6.0.0. See https://github.com/optuna/optuna/releases/tag/v3.0.0. Use suggest_float(..., log=True) instead.\n",
            "  lr          = trial.suggest_loguniform(\"lr\", 1e-5, 1e-3)\n"
          ]
        },
        {
          "output_type": "stream",
          "name": "stdout",
          "text": [
            "[Trial 9] Epoch 01/20  train=0.0117  val=0.0036\n",
            "[Trial 9] Epoch 02/20  train=0.0078  val=0.0027\n",
            "[Trial 9] Epoch 03/20  train=0.0065  val=0.0025\n",
            "[Trial 9] Epoch 04/20  train=0.0061  val=0.0023\n",
            "[Trial 9] Epoch 05/20  train=0.0060  val=0.0024\n",
            "[Trial 9] Epoch 06/20  train=0.0058  val=0.0025\n",
            "[Trial 9] Epoch 07/20  train=0.0058  val=0.0021\n"
          ]
        },
        {
          "output_type": "stream",
          "name": "stderr",
          "text": [
            "[I 2025-07-29 15:32:26,216] Trial 9 pruned. \n"
          ]
        },
        {
          "output_type": "stream",
          "name": "stdout",
          "text": [
            "[Trial 9] Epoch 08/20  train=0.0057  val=0.0024\n",
            "→ Trial 9 pruned at epoch 8\n",
            "\n",
            "→ Trial 10: lr=9.82e-04, hidden=64, bs=128\n"
          ]
        },
        {
          "output_type": "stream",
          "name": "stderr",
          "text": [
            "/tmp/ipython-input-9-2069821114.py:3: FutureWarning: suggest_loguniform has been deprecated in v3.0.0. This feature will be removed in v6.0.0. See https://github.com/optuna/optuna/releases/tag/v3.0.0. Use suggest_float(..., log=True) instead.\n",
            "  lr          = trial.suggest_loguniform(\"lr\", 1e-5, 1e-3)\n"
          ]
        },
        {
          "output_type": "stream",
          "name": "stdout",
          "text": [
            "[Trial 10] Epoch 01/20  train=0.0098  val=0.0028\n",
            "[Trial 10] Epoch 02/20  train=0.0062  val=0.0020\n",
            "[Trial 10] Epoch 03/20  train=0.0058  val=0.0020\n",
            "[Trial 10] Epoch 04/20  train=0.0058  val=0.0028\n",
            "[Trial 10] Epoch 05/20  train=0.0057  val=0.0028\n",
            "[Trial 10] Epoch 06/20  train=0.0057  val=0.0026\n",
            "[Trial 10] Epoch 07/20  train=0.0056  val=0.0019\n",
            "[Trial 10] Epoch 08/20  train=0.0056  val=0.0019\n",
            "[Trial 10] Epoch 09/20  train=0.0056  val=0.0019\n",
            "[Trial 10] Epoch 10/20  train=0.0056  val=0.0019\n",
            "[Trial 10] Epoch 11/20  train=0.0055  val=0.0019\n",
            "[Trial 10] Epoch 12/20  train=0.0054  val=0.0018\n",
            "[Trial 10] Epoch 13/20  train=0.0054  val=0.0018\n",
            "[Trial 10] Epoch 14/20  train=0.0053  val=0.0020\n",
            "[Trial 10] Epoch 15/20  train=0.0053  val=0.0022\n",
            "[Trial 10] Epoch 16/20  train=0.0052  val=0.0019\n",
            "[Trial 10] Epoch 17/20  train=0.0052  val=0.0018\n",
            "[Trial 10] Epoch 18/20  train=0.0051  val=0.0021\n",
            "[Trial 10] Epoch 19/20  train=0.0051  val=0.0020\n"
          ]
        },
        {
          "output_type": "stream",
          "name": "stderr",
          "text": [
            "[I 2025-07-29 15:33:15,326] Trial 10 finished with value: 0.0017780077886646209 and parameters: {'lr': 0.0009815469737622783, 'hidden_size': 64, 'batch_size': 128}. Best is trial 10 with value: 0.0017780077886646209.\n"
          ]
        },
        {
          "output_type": "stream",
          "name": "stdout",
          "text": [
            "[Trial 10] Epoch 20/20  train=0.0051  val=0.0022\n",
            "→ Trial 10 finished: best_val=0.0018  MAE=19.0208  RMSE=24.8311  sMAPE=32.01%\n",
            "\n",
            "→ Trial 11: lr=9.53e-04, hidden=64, bs=128\n"
          ]
        },
        {
          "output_type": "stream",
          "name": "stderr",
          "text": [
            "/tmp/ipython-input-9-2069821114.py:3: FutureWarning: suggest_loguniform has been deprecated in v3.0.0. This feature will be removed in v6.0.0. See https://github.com/optuna/optuna/releases/tag/v3.0.0. Use suggest_float(..., log=True) instead.\n",
            "  lr          = trial.suggest_loguniform(\"lr\", 1e-5, 1e-3)\n"
          ]
        },
        {
          "output_type": "stream",
          "name": "stdout",
          "text": [
            "[Trial 11] Epoch 01/20  train=0.0091  val=0.0024\n",
            "[Trial 11] Epoch 02/20  train=0.0061  val=0.0022\n",
            "[Trial 11] Epoch 03/20  train=0.0058  val=0.0027\n",
            "[Trial 11] Epoch 04/20  train=0.0057  val=0.0019\n",
            "[Trial 11] Epoch 05/20  train=0.0057  val=0.0027\n",
            "[Trial 11] Epoch 06/20  train=0.0057  val=0.0018\n",
            "[Trial 11] Epoch 07/20  train=0.0057  val=0.0026\n",
            "[Trial 11] Epoch 08/20  train=0.0056  val=0.0020\n",
            "[Trial 11] Epoch 09/20  train=0.0056  val=0.0018\n",
            "[Trial 11] Epoch 10/20  train=0.0055  val=0.0019\n",
            "[Trial 11] Epoch 11/20  train=0.0055  val=0.0021\n",
            "[Trial 11] Epoch 12/20  train=0.0054  val=0.0021\n",
            "[Trial 11] Epoch 13/20  train=0.0054  val=0.0019\n",
            "[Trial 11] Epoch 14/20  train=0.0053  val=0.0018\n",
            "[Trial 11] Epoch 15/20  train=0.0053  val=0.0019\n",
            "[Trial 11] Epoch 16/20  train=0.0052  val=0.0018\n",
            "[Trial 11] Epoch 17/20  train=0.0052  val=0.0025\n",
            "[Trial 11] Epoch 18/20  train=0.0052  val=0.0021\n",
            "[Trial 11] Epoch 19/20  train=0.0051  val=0.0018\n"
          ]
        },
        {
          "output_type": "stream",
          "name": "stderr",
          "text": [
            "[I 2025-07-29 15:34:04,228] Trial 11 finished with value: 0.0017882894633499825 and parameters: {'lr': 0.0009534358943189696, 'hidden_size': 64, 'batch_size': 128}. Best is trial 10 with value: 0.0017780077886646209.\n"
          ]
        },
        {
          "output_type": "stream",
          "name": "stdout",
          "text": [
            "[Trial 11] Epoch 20/20  train=0.0051  val=0.0018\n",
            "→ Trial 11 finished: best_val=0.0018  MAE=19.0962  RMSE=24.8846  sMAPE=31.83%\n",
            "\n",
            "→ Trial 12: lr=9.64e-04, hidden=64, bs=128\n"
          ]
        },
        {
          "output_type": "stream",
          "name": "stderr",
          "text": [
            "/tmp/ipython-input-9-2069821114.py:3: FutureWarning: suggest_loguniform has been deprecated in v3.0.0. This feature will be removed in v6.0.0. See https://github.com/optuna/optuna/releases/tag/v3.0.0. Use suggest_float(..., log=True) instead.\n",
            "  lr          = trial.suggest_loguniform(\"lr\", 1e-5, 1e-3)\n"
          ]
        },
        {
          "output_type": "stream",
          "name": "stdout",
          "text": [
            "[Trial 12] Epoch 01/20  train=0.0088  val=0.0024\n",
            "[Trial 12] Epoch 02/20  train=0.0062  val=0.0019\n",
            "[Trial 12] Epoch 03/20  train=0.0058  val=0.0020\n",
            "[Trial 12] Epoch 04/20  train=0.0057  val=0.0022\n",
            "[Trial 12] Epoch 05/20  train=0.0057  val=0.0021\n",
            "[Trial 12] Epoch 06/20  train=0.0056  val=0.0025\n",
            "[Trial 12] Epoch 07/20  train=0.0056  val=0.0021\n",
            "[Trial 12] Epoch 08/20  train=0.0056  val=0.0018\n",
            "[Trial 12] Epoch 09/20  train=0.0056  val=0.0019\n",
            "[Trial 12] Epoch 10/20  train=0.0055  val=0.0018\n",
            "[Trial 12] Epoch 11/20  train=0.0055  val=0.0022\n",
            "[Trial 12] Epoch 12/20  train=0.0054  val=0.0020\n",
            "[Trial 12] Epoch 13/20  train=0.0054  val=0.0018\n",
            "[Trial 12] Epoch 14/20  train=0.0053  val=0.0019\n",
            "[Trial 12] Epoch 15/20  train=0.0053  val=0.0018\n",
            "[Trial 12] Epoch 16/20  train=0.0053  val=0.0018\n",
            "[Trial 12] Epoch 17/20  train=0.0052  val=0.0017\n",
            "[Trial 12] Epoch 18/20  train=0.0052  val=0.0018\n",
            "[Trial 12] Epoch 19/20  train=0.0052  val=0.0018\n"
          ]
        },
        {
          "output_type": "stream",
          "name": "stderr",
          "text": [
            "[I 2025-07-29 15:34:54,223] Trial 12 finished with value: 0.0017215024892483716 and parameters: {'lr': 0.0009637770438198408, 'hidden_size': 64, 'batch_size': 128}. Best is trial 12 with value: 0.0017215024892483716.\n"
          ]
        },
        {
          "output_type": "stream",
          "name": "stdout",
          "text": [
            "[Trial 12] Epoch 20/20  train=0.0051  val=0.0019\n",
            "→ Trial 12 finished: best_val=0.0017  MAE=18.7041  RMSE=24.4160  sMAPE=31.62%\n",
            "\n",
            "→ Trial 13: lr=8.78e-04, hidden=64, bs=128\n"
          ]
        },
        {
          "output_type": "stream",
          "name": "stderr",
          "text": [
            "/tmp/ipython-input-9-2069821114.py:3: FutureWarning: suggest_loguniform has been deprecated in v3.0.0. This feature will be removed in v6.0.0. See https://github.com/optuna/optuna/releases/tag/v3.0.0. Use suggest_float(..., log=True) instead.\n",
            "  lr          = trial.suggest_loguniform(\"lr\", 1e-5, 1e-3)\n"
          ]
        },
        {
          "output_type": "stream",
          "name": "stdout",
          "text": [
            "[Trial 13] Epoch 01/20  train=0.0094  val=0.0025\n",
            "[Trial 13] Epoch 02/20  train=0.0062  val=0.0038\n",
            "[Trial 13] Epoch 03/20  train=0.0058  val=0.0020\n",
            "[Trial 13] Epoch 04/20  train=0.0058  val=0.0019\n",
            "[Trial 13] Epoch 05/20  train=0.0057  val=0.0024\n",
            "[Trial 13] Epoch 06/20  train=0.0057  val=0.0020\n",
            "[Trial 13] Epoch 07/20  train=0.0057  val=0.0022\n",
            "[Trial 13] Epoch 08/20  train=0.0056  val=0.0020\n",
            "[Trial 13] Epoch 09/20  train=0.0056  val=0.0018\n",
            "[Trial 13] Epoch 10/20  train=0.0055  val=0.0033\n",
            "[Trial 13] Epoch 11/20  train=0.0055  val=0.0018\n",
            "[Trial 13] Epoch 12/20  train=0.0055  val=0.0022\n",
            "[Trial 13] Epoch 13/20  train=0.0054  val=0.0018\n",
            "[Trial 13] Epoch 14/20  train=0.0054  val=0.0021\n",
            "[Trial 13] Epoch 15/20  train=0.0054  val=0.0018\n",
            "[Trial 13] Epoch 16/20  train=0.0053  val=0.0020\n",
            "[Trial 13] Epoch 17/20  train=0.0053  val=0.0018\n",
            "[Trial 13] Epoch 18/20  train=0.0053  val=0.0018\n",
            "[Trial 13] Epoch 19/20  train=0.0052  val=0.0019\n"
          ]
        },
        {
          "output_type": "stream",
          "name": "stderr",
          "text": [
            "[I 2025-07-29 15:35:43,345] Trial 13 finished with value: 0.0017804408283985179 and parameters: {'lr': 0.0008777812942503073, 'hidden_size': 64, 'batch_size': 128}. Best is trial 12 with value: 0.0017215024892483716.\n"
          ]
        },
        {
          "output_type": "stream",
          "name": "stdout",
          "text": [
            "[Trial 13] Epoch 20/20  train=0.0053  val=0.0018\n",
            "→ Trial 13 finished: best_val=0.0018  MAE=19.2657  RMSE=24.7913  sMAPE=32.70%\n",
            "\n",
            "→ Trial 14: lr=4.62e-04, hidden=256, bs=128\n"
          ]
        },
        {
          "output_type": "stream",
          "name": "stderr",
          "text": [
            "/tmp/ipython-input-9-2069821114.py:3: FutureWarning: suggest_loguniform has been deprecated in v3.0.0. This feature will be removed in v6.0.0. See https://github.com/optuna/optuna/releases/tag/v3.0.0. Use suggest_float(..., log=True) instead.\n",
            "  lr          = trial.suggest_loguniform(\"lr\", 1e-5, 1e-3)\n"
          ]
        },
        {
          "output_type": "stream",
          "name": "stdout",
          "text": [
            "[Trial 14] Epoch 01/20  train=0.0098  val=0.0046\n",
            "[Trial 14] Epoch 02/20  train=0.0063  val=0.0026\n",
            "[Trial 14] Epoch 03/20  train=0.0059  val=0.0023\n",
            "[Trial 14] Epoch 04/20  train=0.0058  val=0.0021\n",
            "[Trial 14] Epoch 05/20  train=0.0058  val=0.0019\n",
            "[Trial 14] Epoch 06/20  train=0.0057  val=0.0019\n",
            "[Trial 14] Epoch 07/20  train=0.0058  val=0.0020\n",
            "[Trial 14] Epoch 08/20  train=0.0057  val=0.0018\n",
            "[Trial 14] Epoch 09/20  train=0.0057  val=0.0020\n",
            "[Trial 14] Epoch 10/20  train=0.0057  val=0.0019\n",
            "[Trial 14] Epoch 11/20  train=0.0056  val=0.0018\n",
            "[Trial 14] Epoch 12/20  train=0.0056  val=0.0019\n",
            "[Trial 14] Epoch 13/20  train=0.0056  val=0.0023\n",
            "[Trial 14] Epoch 14/20  train=0.0056  val=0.0019\n",
            "[Trial 14] Epoch 15/20  train=0.0055  val=0.0018\n",
            "[Trial 14] Epoch 16/20  train=0.0054  val=0.0025\n",
            "[Trial 14] Epoch 17/20  train=0.0055  val=0.0022\n",
            "[Trial 14] Epoch 18/20  train=0.0054  val=0.0021\n",
            "→ Trial 14 early-stopped at epoch 18\n"
          ]
        },
        {
          "output_type": "stream",
          "name": "stderr",
          "text": [
            "[I 2025-07-29 15:40:22,092] Trial 14 finished with value: 0.0017962256476849966 and parameters: {'lr': 0.00046183097408688753, 'hidden_size': 256, 'batch_size': 128}. Best is trial 12 with value: 0.0017215024892483716.\n"
          ]
        },
        {
          "output_type": "stream",
          "name": "stdout",
          "text": [
            "→ Trial 14 finished: best_val=0.0018  MAE=19.3068  RMSE=24.8773  sMAPE=32.34%\n",
            "\n",
            "→ Trial 15: lr=4.37e-04, hidden=64, bs=128\n"
          ]
        },
        {
          "output_type": "stream",
          "name": "stderr",
          "text": [
            "/tmp/ipython-input-9-2069821114.py:3: FutureWarning: suggest_loguniform has been deprecated in v3.0.0. This feature will be removed in v6.0.0. See https://github.com/optuna/optuna/releases/tag/v3.0.0. Use suggest_float(..., log=True) instead.\n",
            "  lr          = trial.suggest_loguniform(\"lr\", 1e-5, 1e-3)\n"
          ]
        },
        {
          "output_type": "stream",
          "name": "stdout",
          "text": [
            "[Trial 15] Epoch 01/20  train=0.0104  val=0.0036\n",
            "[Trial 15] Epoch 02/20  train=0.0070  val=0.0030\n",
            "[Trial 15] Epoch 03/20  train=0.0061  val=0.0026\n",
            "[Trial 15] Epoch 04/20  train=0.0059  val=0.0022\n",
            "[Trial 15] Epoch 05/20  train=0.0059  val=0.0019\n",
            "[Trial 15] Epoch 06/20  train=0.0058  val=0.0018\n",
            "[Trial 15] Epoch 07/20  train=0.0057  val=0.0020\n",
            "[Trial 15] Epoch 08/20  train=0.0058  val=0.0018\n",
            "[Trial 15] Epoch 09/20  train=0.0057  val=0.0024\n",
            "[Trial 15] Epoch 10/20  train=0.0057  val=0.0020\n",
            "[Trial 15] Epoch 11/20  train=0.0057  val=0.0022\n",
            "[Trial 15] Epoch 12/20  train=0.0057  val=0.0019\n",
            "[Trial 15] Epoch 13/20  train=0.0056  val=0.0021\n",
            "[Trial 15] Epoch 14/20  train=0.0056  val=0.0019\n",
            "[Trial 15] Epoch 15/20  train=0.0056  val=0.0019\n"
          ]
        },
        {
          "output_type": "stream",
          "name": "stderr",
          "text": [
            "[I 2025-07-29 15:41:01,181] Trial 15 finished with value: 0.0018416283216894321 and parameters: {'lr': 0.00043744333642124284, 'hidden_size': 64, 'batch_size': 128}. Best is trial 12 with value: 0.0017215024892483716.\n"
          ]
        },
        {
          "output_type": "stream",
          "name": "stdout",
          "text": [
            "[Trial 15] Epoch 16/20  train=0.0056  val=0.0019\n",
            "→ Trial 15 early-stopped at epoch 16\n",
            "→ Trial 15 finished: best_val=0.0018  MAE=19.6357  RMSE=25.1390  sMAPE=33.06%\n",
            "\n",
            "→ Trial 16: lr=4.16e-04, hidden=64, bs=64\n"
          ]
        },
        {
          "output_type": "stream",
          "name": "stderr",
          "text": [
            "/tmp/ipython-input-9-2069821114.py:3: FutureWarning: suggest_loguniform has been deprecated in v3.0.0. This feature will be removed in v6.0.0. See https://github.com/optuna/optuna/releases/tag/v3.0.0. Use suggest_float(..., log=True) instead.\n",
            "  lr          = trial.suggest_loguniform(\"lr\", 1e-5, 1e-3)\n"
          ]
        },
        {
          "output_type": "stream",
          "name": "stdout",
          "text": [
            "[Trial 16] Epoch 01/20  train=0.0091  val=0.0028\n",
            "[Trial 16] Epoch 02/20  train=0.0062  val=0.0019\n",
            "[Trial 16] Epoch 03/20  train=0.0059  val=0.0026\n",
            "[Trial 16] Epoch 04/20  train=0.0058  val=0.0020\n",
            "[Trial 16] Epoch 05/20  train=0.0058  val=0.0019\n",
            "[Trial 16] Epoch 06/20  train=0.0057  val=0.0023\n",
            "[Trial 16] Epoch 07/20  train=0.0057  val=0.0018\n",
            "[Trial 16] Epoch 08/20  train=0.0057  val=0.0022\n",
            "[Trial 16] Epoch 09/20  train=0.0056  val=0.0018\n",
            "[Trial 16] Epoch 10/20  train=0.0056  val=0.0019\n",
            "[Trial 16] Epoch 11/20  train=0.0056  val=0.0020\n",
            "[Trial 16] Epoch 12/20  train=0.0056  val=0.0021\n",
            "[Trial 16] Epoch 13/20  train=0.0056  val=0.0018\n",
            "[Trial 16] Epoch 14/20  train=0.0055  val=0.0019\n",
            "[Trial 16] Epoch 15/20  train=0.0055  val=0.0019\n",
            "[Trial 16] Epoch 16/20  train=0.0055  val=0.0019\n",
            "[Trial 16] Epoch 17/20  train=0.0054  val=0.0020\n",
            "[Trial 16] Epoch 18/20  train=0.0054  val=0.0020\n",
            "[Trial 16] Epoch 19/20  train=0.0053  val=0.0018\n"
          ]
        },
        {
          "output_type": "stream",
          "name": "stderr",
          "text": [
            "[I 2025-07-29 15:42:26,991] Trial 16 finished with value: 0.0018039141217266897 and parameters: {'lr': 0.00041559169968939614, 'hidden_size': 64, 'batch_size': 64}. Best is trial 12 with value: 0.0017215024892483716.\n"
          ]
        },
        {
          "output_type": "stream",
          "name": "stdout",
          "text": [
            "[Trial 16] Epoch 20/20  train=0.0053  val=0.0018\n",
            "→ Trial 16 finished: best_val=0.0018  MAE=19.4524  RMSE=24.8986  sMAPE=32.86%\n",
            "\n",
            "→ Trial 17: lr=6.35e-04, hidden=64, bs=128\n"
          ]
        },
        {
          "output_type": "stream",
          "name": "stderr",
          "text": [
            "/tmp/ipython-input-9-2069821114.py:3: FutureWarning: suggest_loguniform has been deprecated in v3.0.0. This feature will be removed in v6.0.0. See https://github.com/optuna/optuna/releases/tag/v3.0.0. Use suggest_float(..., log=True) instead.\n",
            "  lr          = trial.suggest_loguniform(\"lr\", 1e-5, 1e-3)\n"
          ]
        },
        {
          "output_type": "stream",
          "name": "stdout",
          "text": [
            "[Trial 17] Epoch 01/20  train=0.0098  val=0.0057\n",
            "[Trial 17] Epoch 02/20  train=0.0064  val=0.0022\n",
            "[Trial 17] Epoch 03/20  train=0.0059  val=0.0032\n",
            "[Trial 17] Epoch 04/20  train=0.0058  val=0.0019\n",
            "[Trial 17] Epoch 05/20  train=0.0057  val=0.0019\n",
            "[Trial 17] Epoch 06/20  train=0.0058  val=0.0020\n",
            "[Trial 17] Epoch 07/20  train=0.0056  val=0.0018\n",
            "[Trial 17] Epoch 08/20  train=0.0056  val=0.0018\n",
            "[Trial 17] Epoch 09/20  train=0.0056  val=0.0019\n",
            "[Trial 17] Epoch 10/20  train=0.0056  val=0.0022\n",
            "[Trial 17] Epoch 11/20  train=0.0055  val=0.0026\n",
            "[Trial 17] Epoch 12/20  train=0.0055  val=0.0018\n",
            "[Trial 17] Epoch 13/20  train=0.0055  val=0.0020\n",
            "[Trial 17] Epoch 14/20  train=0.0054  val=0.0018\n",
            "[Trial 17] Epoch 15/20  train=0.0054  val=0.0017\n",
            "[Trial 17] Epoch 16/20  train=0.0053  val=0.0019\n",
            "[Trial 17] Epoch 17/20  train=0.0052  val=0.0018\n",
            "[Trial 17] Epoch 18/20  train=0.0053  val=0.0018\n",
            "[Trial 17] Epoch 19/20  train=0.0052  val=0.0018\n"
          ]
        },
        {
          "output_type": "stream",
          "name": "stderr",
          "text": [
            "[I 2025-07-29 15:43:15,693] Trial 17 finished with value: 0.0017267076916101835 and parameters: {'lr': 0.0006354380760055624, 'hidden_size': 64, 'batch_size': 128}. Best is trial 12 with value: 0.0017215024892483716.\n"
          ]
        },
        {
          "output_type": "stream",
          "name": "stdout",
          "text": [
            "[Trial 17] Epoch 20/20  train=0.0052  val=0.0018\n",
            "→ Trial 17 finished: best_val=0.0017  MAE=18.6755  RMSE=24.3994  sMAPE=31.34%\n",
            "\n",
            "→ Trial 18: lr=1.07e-05, hidden=32, bs=128\n"
          ]
        },
        {
          "output_type": "stream",
          "name": "stderr",
          "text": [
            "/tmp/ipython-input-9-2069821114.py:3: FutureWarning: suggest_loguniform has been deprecated in v3.0.0. This feature will be removed in v6.0.0. See https://github.com/optuna/optuna/releases/tag/v3.0.0. Use suggest_float(..., log=True) instead.\n",
            "  lr          = trial.suggest_loguniform(\"lr\", 1e-5, 1e-3)\n"
          ]
        },
        {
          "output_type": "stream",
          "name": "stdout",
          "text": [
            "[Trial 18] Epoch 01/20  train=0.0451  val=0.0042\n",
            "[Trial 18] Epoch 02/20  train=0.0128  val=0.0049\n",
            "[Trial 18] Epoch 03/20  train=0.0128  val=0.0049\n",
            "[Trial 18] Epoch 04/20  train=0.0128  val=0.0049\n"
          ]
        },
        {
          "output_type": "stream",
          "name": "stderr",
          "text": [
            "[I 2025-07-29 15:43:27,674] Trial 18 pruned. \n"
          ]
        },
        {
          "output_type": "stream",
          "name": "stdout",
          "text": [
            "[Trial 18] Epoch 05/20  train=0.0128  val=0.0047\n",
            "→ Trial 18 pruned at epoch 5\n",
            "\n",
            "→ Trial 19: lr=5.85e-04, hidden=256, bs=64\n"
          ]
        },
        {
          "output_type": "stream",
          "name": "stderr",
          "text": [
            "/tmp/ipython-input-9-2069821114.py:3: FutureWarning: suggest_loguniform has been deprecated in v3.0.0. This feature will be removed in v6.0.0. See https://github.com/optuna/optuna/releases/tag/v3.0.0. Use suggest_float(..., log=True) instead.\n",
            "  lr          = trial.suggest_loguniform(\"lr\", 1e-5, 1e-3)\n"
          ]
        },
        {
          "output_type": "stream",
          "name": "stdout",
          "text": [
            "[Trial 19] Epoch 01/20  train=0.0083  val=0.0025\n",
            "[Trial 19] Epoch 02/20  train=0.0060  val=0.0019\n",
            "[Trial 19] Epoch 03/20  train=0.0059  val=0.0019\n",
            "[Trial 19] Epoch 04/20  train=0.0058  val=0.0018\n",
            "[Trial 19] Epoch 05/20  train=0.0057  val=0.0020\n",
            "[Trial 19] Epoch 06/20  train=0.0057  val=0.0019\n",
            "[Trial 19] Epoch 07/20  train=0.0057  val=0.0018\n",
            "[Trial 19] Epoch 08/20  train=0.0056  val=0.0020\n",
            "[Trial 19] Epoch 09/20  train=0.0056  val=0.0019\n",
            "[Trial 19] Epoch 10/20  train=0.0055  val=0.0020\n",
            "[Trial 19] Epoch 11/20  train=0.0055  val=0.0022\n",
            "[Trial 19] Epoch 12/20  train=0.0054  val=0.0021\n",
            "[Trial 19] Epoch 13/20  train=0.0053  val=0.0018\n",
            "[Trial 19] Epoch 14/20  train=0.0053  val=0.0021\n",
            "[Trial 19] Epoch 15/20  train=0.0053  val=0.0018\n",
            "[Trial 19] Epoch 16/20  train=0.0052  val=0.0019\n",
            "[Trial 19] Epoch 17/20  train=0.0052  val=0.0019\n",
            "[Trial 19] Epoch 18/20  train=0.0052  val=0.0018\n",
            "[Trial 19] Epoch 19/20  train=0.0051  val=0.0019\n",
            "[Trial 19] Epoch 20/20  train=0.0052  val=0.0020\n"
          ]
        },
        {
          "output_type": "stream",
          "name": "stderr",
          "text": [
            "[I 2025-07-29 15:49:34,026] Trial 19 finished with value: 0.0017892735182692338 and parameters: {'lr': 0.0005854030126951021, 'hidden_size': 256, 'batch_size': 64}. Best is trial 12 with value: 0.0017215024892483716.\n"
          ]
        },
        {
          "output_type": "stream",
          "name": "stdout",
          "text": [
            "→ Trial 19 finished: best_val=0.0018  MAE=19.3059  RMSE=24.8716  sMAPE=32.43%\n",
            "\n",
            "→ Trial 20: lr=2.87e-04, hidden=64, bs=128\n"
          ]
        },
        {
          "output_type": "stream",
          "name": "stderr",
          "text": [
            "/tmp/ipython-input-9-2069821114.py:3: FutureWarning: suggest_loguniform has been deprecated in v3.0.0. This feature will be removed in v6.0.0. See https://github.com/optuna/optuna/releases/tag/v3.0.0. Use suggest_float(..., log=True) instead.\n",
            "  lr          = trial.suggest_loguniform(\"lr\", 1e-5, 1e-3)\n"
          ]
        },
        {
          "output_type": "stream",
          "name": "stdout",
          "text": [
            "[Trial 20] Epoch 01/20  train=0.0120  val=0.0031\n",
            "[Trial 20] Epoch 02/20  train=0.0075  val=0.0028\n",
            "[Trial 20] Epoch 03/20  train=0.0066  val=0.0028\n",
            "[Trial 20] Epoch 04/20  train=0.0063  val=0.0024\n",
            "[Trial 20] Epoch 05/20  train=0.0060  val=0.0020\n",
            "[Trial 20] Epoch 06/20  train=0.0058  val=0.0019\n",
            "[Trial 20] Epoch 07/20  train=0.0057  val=0.0022\n",
            "[Trial 20] Epoch 08/20  train=0.0057  val=0.0020\n"
          ]
        },
        {
          "output_type": "stream",
          "name": "stderr",
          "text": [
            "[I 2025-07-29 15:49:55,385] Trial 20 pruned. \n"
          ]
        },
        {
          "output_type": "stream",
          "name": "stdout",
          "text": [
            "[Trial 20] Epoch 09/20  train=0.0057  val=0.0021\n",
            "→ Trial 20 pruned at epoch 9\n",
            "\n",
            "→ Trial 21: lr=7.21e-04, hidden=64, bs=128\n"
          ]
        },
        {
          "output_type": "stream",
          "name": "stderr",
          "text": [
            "/tmp/ipython-input-9-2069821114.py:3: FutureWarning: suggest_loguniform has been deprecated in v3.0.0. This feature will be removed in v6.0.0. See https://github.com/optuna/optuna/releases/tag/v3.0.0. Use suggest_float(..., log=True) instead.\n",
            "  lr          = trial.suggest_loguniform(\"lr\", 1e-5, 1e-3)\n"
          ]
        },
        {
          "output_type": "stream",
          "name": "stdout",
          "text": [
            "[Trial 21] Epoch 01/20  train=0.0096  val=0.0030\n",
            "[Trial 21] Epoch 02/20  train=0.0064  val=0.0029\n",
            "[Trial 21] Epoch 03/20  train=0.0060  val=0.0022\n",
            "[Trial 21] Epoch 04/20  train=0.0058  val=0.0025\n",
            "[Trial 21] Epoch 05/20  train=0.0058  val=0.0020\n",
            "[Trial 21] Epoch 06/20  train=0.0057  val=0.0018\n",
            "[Trial 21] Epoch 07/20  train=0.0057  val=0.0019\n",
            "[Trial 21] Epoch 08/20  train=0.0056  val=0.0021\n",
            "[Trial 21] Epoch 09/20  train=0.0056  val=0.0018\n",
            "[Trial 21] Epoch 10/20  train=0.0056  val=0.0022\n",
            "[Trial 21] Epoch 11/20  train=0.0056  val=0.0021\n",
            "[Trial 21] Epoch 12/20  train=0.0056  val=0.0019\n",
            "[Trial 21] Epoch 13/20  train=0.0056  val=0.0020\n",
            "[Trial 21] Epoch 14/20  train=0.0055  val=0.0018\n",
            "[Trial 21] Epoch 15/20  train=0.0055  val=0.0019\n",
            "[Trial 21] Epoch 16/20  train=0.0054  val=0.0018\n",
            "[Trial 21] Epoch 17/20  train=0.0054  val=0.0020\n",
            "[Trial 21] Epoch 18/20  train=0.0053  val=0.0018\n"
          ]
        },
        {
          "output_type": "stream",
          "name": "stderr",
          "text": [
            "[I 2025-07-29 15:50:41,469] Trial 21 finished with value: 0.0017771274180394475 and parameters: {'lr': 0.0007207907536327888, 'hidden_size': 64, 'batch_size': 128}. Best is trial 12 with value: 0.0017215024892483716.\n"
          ]
        },
        {
          "output_type": "stream",
          "name": "stdout",
          "text": [
            "[Trial 21] Epoch 19/20  train=0.0053  val=0.0018\n",
            "→ Trial 21 early-stopped at epoch 19\n",
            "→ Trial 21 finished: best_val=0.0018  MAE=19.3261  RMSE=24.7465  sMAPE=32.04%\n",
            "\n",
            "→ Trial 22: lr=6.46e-04, hidden=64, bs=128\n"
          ]
        },
        {
          "output_type": "stream",
          "name": "stderr",
          "text": [
            "/tmp/ipython-input-9-2069821114.py:3: FutureWarning: suggest_loguniform has been deprecated in v3.0.0. This feature will be removed in v6.0.0. See https://github.com/optuna/optuna/releases/tag/v3.0.0. Use suggest_float(..., log=True) instead.\n",
            "  lr          = trial.suggest_loguniform(\"lr\", 1e-5, 1e-3)\n"
          ]
        },
        {
          "output_type": "stream",
          "name": "stdout",
          "text": [
            "[Trial 22] Epoch 01/20  train=0.0102  val=0.0055\n",
            "[Trial 22] Epoch 02/20  train=0.0065  val=0.0038\n",
            "[Trial 22] Epoch 03/20  train=0.0060  val=0.0019\n",
            "[Trial 22] Epoch 04/20  train=0.0058  val=0.0021\n",
            "[Trial 22] Epoch 05/20  train=0.0057  val=0.0023\n",
            "[Trial 22] Epoch 06/20  train=0.0057  val=0.0020\n",
            "[Trial 22] Epoch 07/20  train=0.0057  val=0.0018\n",
            "[Trial 22] Epoch 08/20  train=0.0056  val=0.0018\n",
            "[Trial 22] Epoch 09/20  train=0.0056  val=0.0019\n",
            "[Trial 22] Epoch 10/20  train=0.0056  val=0.0019\n",
            "[Trial 22] Epoch 11/20  train=0.0056  val=0.0021\n",
            "[Trial 22] Epoch 12/20  train=0.0056  val=0.0020\n",
            "[Trial 22] Epoch 13/20  train=0.0055  val=0.0018\n",
            "[Trial 22] Epoch 14/20  train=0.0054  val=0.0020\n",
            "[Trial 22] Epoch 15/20  train=0.0054  val=0.0018\n",
            "[Trial 22] Epoch 16/20  train=0.0053  val=0.0018\n",
            "[Trial 22] Epoch 17/20  train=0.0053  val=0.0024\n",
            "[Trial 22] Epoch 18/20  train=0.0052  val=0.0018\n",
            "[Trial 22] Epoch 19/20  train=0.0052  val=0.0019\n"
          ]
        },
        {
          "output_type": "stream",
          "name": "stderr",
          "text": [
            "[I 2025-07-29 15:51:29,874] Trial 22 finished with value: 0.0017786002819142911 and parameters: {'lr': 0.0006462022837485772, 'hidden_size': 64, 'batch_size': 128}. Best is trial 12 with value: 0.0017215024892483716.\n"
          ]
        },
        {
          "output_type": "stream",
          "name": "stdout",
          "text": [
            "[Trial 22] Epoch 20/20  train=0.0052  val=0.0026\n",
            "→ Trial 22 finished: best_val=0.0018  MAE=19.0924  RMSE=24.8250  sMAPE=31.57%\n",
            "\n",
            "→ Trial 23: lr=3.36e-04, hidden=64, bs=128\n"
          ]
        },
        {
          "output_type": "stream",
          "name": "stderr",
          "text": [
            "/tmp/ipython-input-9-2069821114.py:3: FutureWarning: suggest_loguniform has been deprecated in v3.0.0. This feature will be removed in v6.0.0. See https://github.com/optuna/optuna/releases/tag/v3.0.0. Use suggest_float(..., log=True) instead.\n",
            "  lr          = trial.suggest_loguniform(\"lr\", 1e-5, 1e-3)\n"
          ]
        },
        {
          "output_type": "stream",
          "name": "stdout",
          "text": [
            "[Trial 23] Epoch 01/20  train=0.0114  val=0.0037\n",
            "[Trial 23] Epoch 02/20  train=0.0074  val=0.0036\n",
            "[Trial 23] Epoch 03/20  train=0.0064  val=0.0026\n",
            "[Trial 23] Epoch 04/20  train=0.0060  val=0.0020\n",
            "[Trial 23] Epoch 05/20  train=0.0059  val=0.0030\n"
          ]
        },
        {
          "output_type": "stream",
          "name": "stderr",
          "text": [
            "[I 2025-07-29 15:51:44,352] Trial 23 pruned. \n"
          ]
        },
        {
          "output_type": "stream",
          "name": "stdout",
          "text": [
            "[Trial 23] Epoch 06/20  train=0.0059  val=0.0022\n",
            "→ Trial 23 pruned at epoch 6\n",
            "\n",
            "→ Trial 24: lr=6.44e-04, hidden=64, bs=128\n"
          ]
        },
        {
          "output_type": "stream",
          "name": "stderr",
          "text": [
            "/tmp/ipython-input-9-2069821114.py:3: FutureWarning: suggest_loguniform has been deprecated in v3.0.0. This feature will be removed in v6.0.0. See https://github.com/optuna/optuna/releases/tag/v3.0.0. Use suggest_float(..., log=True) instead.\n",
            "  lr          = trial.suggest_loguniform(\"lr\", 1e-5, 1e-3)\n"
          ]
        },
        {
          "output_type": "stream",
          "name": "stdout",
          "text": [
            "[Trial 24] Epoch 01/20  train=0.0108  val=0.0030\n",
            "[Trial 24] Epoch 02/20  train=0.0066  val=0.0024\n",
            "[Trial 24] Epoch 03/20  train=0.0059  val=0.0022\n",
            "[Trial 24] Epoch 04/20  train=0.0058  val=0.0027\n",
            "[Trial 24] Epoch 05/20  train=0.0057  val=0.0019\n",
            "[Trial 24] Epoch 06/20  train=0.0057  val=0.0020\n",
            "[Trial 24] Epoch 07/20  train=0.0057  val=0.0019\n",
            "[Trial 24] Epoch 08/20  train=0.0057  val=0.0018\n",
            "[Trial 24] Epoch 09/20  train=0.0056  val=0.0021\n",
            "[Trial 24] Epoch 10/20  train=0.0056  val=0.0019\n",
            "[Trial 24] Epoch 11/20  train=0.0056  val=0.0018\n",
            "[Trial 24] Epoch 12/20  train=0.0056  val=0.0018\n",
            "[Trial 24] Epoch 13/20  train=0.0055  val=0.0019\n",
            "[Trial 24] Epoch 14/20  train=0.0055  val=0.0018\n",
            "[Trial 24] Epoch 15/20  train=0.0055  val=0.0018\n",
            "[Trial 24] Epoch 16/20  train=0.0055  val=0.0018\n",
            "[Trial 24] Epoch 17/20  train=0.0053  val=0.0019\n",
            "[Trial 24] Epoch 18/20  train=0.0053  val=0.0018\n",
            "[Trial 24] Epoch 19/20  train=0.0053  val=0.0018\n"
          ]
        },
        {
          "output_type": "stream",
          "name": "stderr",
          "text": [
            "[I 2025-07-29 15:52:32,685] Trial 24 finished with value: 0.0017520580187682872 and parameters: {'lr': 0.0006441682951273782, 'hidden_size': 64, 'batch_size': 128}. Best is trial 12 with value: 0.0017215024892483716.\n"
          ]
        },
        {
          "output_type": "stream",
          "name": "stdout",
          "text": [
            "[Trial 24] Epoch 20/20  train=0.0052  val=0.0018\n",
            "→ Trial 24 finished: best_val=0.0018  MAE=18.8158  RMSE=24.6063  sMAPE=31.42%\n",
            "\n",
            "→ Trial 25: lr=5.33e-04, hidden=64, bs=128\n"
          ]
        },
        {
          "output_type": "stream",
          "name": "stderr",
          "text": [
            "/tmp/ipython-input-9-2069821114.py:3: FutureWarning: suggest_loguniform has been deprecated in v3.0.0. This feature will be removed in v6.0.0. See https://github.com/optuna/optuna/releases/tag/v3.0.0. Use suggest_float(..., log=True) instead.\n",
            "  lr          = trial.suggest_loguniform(\"lr\", 1e-5, 1e-3)\n"
          ]
        },
        {
          "output_type": "stream",
          "name": "stdout",
          "text": [
            "[Trial 25] Epoch 01/20  train=0.0105  val=0.0061\n",
            "[Trial 25] Epoch 02/20  train=0.0067  val=0.0031\n",
            "[Trial 25] Epoch 03/20  train=0.0060  val=0.0029\n",
            "[Trial 25] Epoch 04/20  train=0.0058  val=0.0024\n",
            "[Trial 25] Epoch 05/20  train=0.0058  val=0.0021\n"
          ]
        },
        {
          "output_type": "stream",
          "name": "stderr",
          "text": [
            "[I 2025-07-29 15:52:47,278] Trial 25 pruned. \n"
          ]
        },
        {
          "output_type": "stream",
          "name": "stdout",
          "text": [
            "[Trial 25] Epoch 06/20  train=0.0057  val=0.0021\n",
            "→ Trial 25 pruned at epoch 6\n",
            "\n",
            "→ Trial 26: lr=2.79e-04, hidden=64, bs=128\n"
          ]
        },
        {
          "output_type": "stream",
          "name": "stderr",
          "text": [
            "/tmp/ipython-input-9-2069821114.py:3: FutureWarning: suggest_loguniform has been deprecated in v3.0.0. This feature will be removed in v6.0.0. See https://github.com/optuna/optuna/releases/tag/v3.0.0. Use suggest_float(..., log=True) instead.\n",
            "  lr          = trial.suggest_loguniform(\"lr\", 1e-5, 1e-3)\n"
          ]
        },
        {
          "output_type": "stream",
          "name": "stdout",
          "text": [
            "[Trial 26] Epoch 01/20  train=0.0127  val=0.0037\n",
            "[Trial 26] Epoch 02/20  train=0.0076  val=0.0033\n",
            "[Trial 26] Epoch 03/20  train=0.0067  val=0.0029\n",
            "[Trial 26] Epoch 04/20  train=0.0064  val=0.0025\n",
            "[Trial 26] Epoch 05/20  train=0.0061  val=0.0022\n",
            "[Trial 26] Epoch 06/20  train=0.0058  val=0.0019\n",
            "[Trial 26] Epoch 07/20  train=0.0057  val=0.0019\n",
            "[Trial 26] Epoch 08/20  train=0.0057  val=0.0026\n",
            "[Trial 26] Epoch 09/20  train=0.0057  val=0.0020\n",
            "[Trial 26] Epoch 10/20  train=0.0056  val=0.0020\n",
            "[Trial 26] Epoch 11/20  train=0.0057  val=0.0018\n",
            "[Trial 26] Epoch 12/20  train=0.0056  val=0.0019\n",
            "[Trial 26] Epoch 13/20  train=0.0056  val=0.0018\n",
            "[Trial 26] Epoch 14/20  train=0.0056  val=0.0018\n",
            "[Trial 26] Epoch 15/20  train=0.0056  val=0.0026\n",
            "[Trial 26] Epoch 16/20  train=0.0056  val=0.0019\n",
            "[Trial 26] Epoch 17/20  train=0.0056  val=0.0018\n",
            "[Trial 26] Epoch 18/20  train=0.0056  val=0.0018\n",
            "[Trial 26] Epoch 19/20  train=0.0056  val=0.0021\n"
          ]
        },
        {
          "output_type": "stream",
          "name": "stderr",
          "text": [
            "[I 2025-07-29 15:53:35,567] Trial 26 finished with value: 0.0018004604271086662 and parameters: {'lr': 0.00027902431337864547, 'hidden_size': 64, 'batch_size': 128}. Best is trial 12 with value: 0.0017215024892483716.\n"
          ]
        },
        {
          "output_type": "stream",
          "name": "stdout",
          "text": [
            "[Trial 26] Epoch 20/20  train=0.0056  val=0.0018\n",
            "→ Trial 26 finished: best_val=0.0018  MAE=19.3892  RMSE=24.9545  sMAPE=31.84%\n",
            "\n",
            "→ Trial 27: lr=3.27e-05, hidden=256, bs=128\n"
          ]
        },
        {
          "output_type": "stream",
          "name": "stderr",
          "text": [
            "/tmp/ipython-input-9-2069821114.py:3: FutureWarning: suggest_loguniform has been deprecated in v3.0.0. This feature will be removed in v6.0.0. See https://github.com/optuna/optuna/releases/tag/v3.0.0. Use suggest_float(..., log=True) instead.\n",
            "  lr          = trial.suggest_loguniform(\"lr\", 1e-5, 1e-3)\n"
          ]
        },
        {
          "output_type": "stream",
          "name": "stdout",
          "text": [
            "[Trial 27] Epoch 01/20  train=0.0134  val=0.0049\n",
            "[Trial 27] Epoch 02/20  train=0.0120  val=0.0039\n",
            "[Trial 27] Epoch 03/20  train=0.0098  val=0.0038\n",
            "[Trial 27] Epoch 04/20  train=0.0086  val=0.0033\n"
          ]
        },
        {
          "output_type": "stream",
          "name": "stderr",
          "text": [
            "[I 2025-07-29 15:54:52,267] Trial 27 pruned. \n"
          ]
        },
        {
          "output_type": "stream",
          "name": "stdout",
          "text": [
            "[Trial 27] Epoch 05/20  train=0.0078  val=0.0036\n",
            "→ Trial 27 pruned at epoch 5\n",
            "\n",
            "→ Trial 28: lr=7.59e-04, hidden=32, bs=64\n"
          ]
        },
        {
          "output_type": "stream",
          "name": "stderr",
          "text": [
            "/tmp/ipython-input-9-2069821114.py:3: FutureWarning: suggest_loguniform has been deprecated in v3.0.0. This feature will be removed in v6.0.0. See https://github.com/optuna/optuna/releases/tag/v3.0.0. Use suggest_float(..., log=True) instead.\n",
            "  lr          = trial.suggest_loguniform(\"lr\", 1e-5, 1e-3)\n"
          ]
        },
        {
          "output_type": "stream",
          "name": "stdout",
          "text": [
            "[Trial 28] Epoch 01/20  train=0.0087  val=0.0023\n",
            "[Trial 28] Epoch 02/20  train=0.0060  val=0.0019\n",
            "[Trial 28] Epoch 03/20  train=0.0058  val=0.0019\n",
            "[Trial 28] Epoch 04/20  train=0.0057  val=0.0020\n",
            "[Trial 28] Epoch 05/20  train=0.0057  val=0.0019\n",
            "[Trial 28] Epoch 06/20  train=0.0057  val=0.0026\n",
            "[Trial 28] Epoch 07/20  train=0.0056  val=0.0019\n",
            "[Trial 28] Epoch 08/20  train=0.0056  val=0.0018\n",
            "[Trial 28] Epoch 09/20  train=0.0056  val=0.0019\n",
            "[Trial 28] Epoch 10/20  train=0.0055  val=0.0018\n",
            "[Trial 28] Epoch 11/20  train=0.0055  val=0.0021\n",
            "[Trial 28] Epoch 12/20  train=0.0054  val=0.0017\n",
            "[Trial 28] Epoch 13/20  train=0.0053  val=0.0018\n",
            "[Trial 28] Epoch 14/20  train=0.0053  val=0.0019\n",
            "[Trial 28] Epoch 15/20  train=0.0052  val=0.0019\n",
            "[Trial 28] Epoch 16/20  train=0.0052  val=0.0018\n",
            "[Trial 28] Epoch 17/20  train=0.0052  val=0.0018\n",
            "[Trial 28] Epoch 18/20  train=0.0051  val=0.0018\n",
            "[Trial 28] Epoch 19/20  train=0.0051  val=0.0018\n"
          ]
        },
        {
          "output_type": "stream",
          "name": "stderr",
          "text": [
            "[I 2025-07-29 15:56:16,779] Trial 28 finished with value: 0.0017309052168654846 and parameters: {'lr': 0.000758594447348659, 'hidden_size': 32, 'batch_size': 64}. Best is trial 12 with value: 0.0017215024892483716.\n"
          ]
        },
        {
          "output_type": "stream",
          "name": "stdout",
          "text": [
            "[Trial 28] Epoch 20/20  train=0.0051  val=0.0018\n",
            "→ Trial 28 finished: best_val=0.0017  MAE=18.8516  RMSE=24.4400  sMAPE=31.40%\n",
            "\n",
            "→ Trial 29: lr=3.44e-04, hidden=32, bs=64\n"
          ]
        },
        {
          "output_type": "stream",
          "name": "stderr",
          "text": [
            "/tmp/ipython-input-9-2069821114.py:3: FutureWarning: suggest_loguniform has been deprecated in v3.0.0. This feature will be removed in v6.0.0. See https://github.com/optuna/optuna/releases/tag/v3.0.0. Use suggest_float(..., log=True) instead.\n",
            "  lr          = trial.suggest_loguniform(\"lr\", 1e-5, 1e-3)\n"
          ]
        },
        {
          "output_type": "stream",
          "name": "stdout",
          "text": [
            "[Trial 29] Epoch 01/20  train=0.0112  val=0.0041\n",
            "[Trial 29] Epoch 02/20  train=0.0068  val=0.0025\n",
            "[Trial 29] Epoch 03/20  train=0.0060  val=0.0023\n",
            "[Trial 29] Epoch 04/20  train=0.0058  val=0.0019\n",
            "[Trial 29] Epoch 05/20  train=0.0058  val=0.0022\n",
            "[Trial 29] Epoch 06/20  train=0.0057  val=0.0019\n",
            "[Trial 29] Epoch 07/20  train=0.0057  val=0.0021\n",
            "[Trial 29] Epoch 08/20  train=0.0057  val=0.0018\n",
            "[Trial 29] Epoch 09/20  train=0.0057  val=0.0018\n",
            "[Trial 29] Epoch 10/20  train=0.0056  val=0.0019\n",
            "[Trial 29] Epoch 11/20  train=0.0056  val=0.0019\n",
            "[Trial 29] Epoch 12/20  train=0.0056  val=0.0021\n",
            "[Trial 29] Epoch 13/20  train=0.0056  val=0.0022\n",
            "[Trial 29] Epoch 14/20  train=0.0056  val=0.0019\n",
            "[Trial 29] Epoch 15/20  train=0.0056  val=0.0019\n",
            "[Trial 29] Epoch 16/20  train=0.0056  val=0.0018\n",
            "[Trial 29] Epoch 17/20  train=0.0056  val=0.0019\n",
            "[Trial 29] Epoch 18/20  train=0.0055  val=0.0020\n",
            "[Trial 29] Epoch 19/20  train=0.0055  val=0.0019\n"
          ]
        },
        {
          "output_type": "stream",
          "name": "stderr",
          "text": [
            "[I 2025-07-29 15:57:41,658] Trial 29 finished with value: 0.0017878655850401392 and parameters: {'lr': 0.00034437161892647236, 'hidden_size': 32, 'batch_size': 64}. Best is trial 12 with value: 0.0017215024892483716.\n"
          ]
        },
        {
          "output_type": "stream",
          "name": "stdout",
          "text": [
            "[Trial 29] Epoch 20/20  train=0.0055  val=0.0018\n",
            "→ Trial 29 finished: best_val=0.0018  MAE=19.3614  RMSE=24.7975  sMAPE=32.09%\n",
            "✔ Stage 1 done: {'lr': 0.0009637770438198408, 'hidden_size': 64, 'batch_size': 128} val_loss= 0.0017215024892483716\n"
          ]
        }
      ],
      "source": [
        "def objective_stage1(trial):\n",
        "    # ── 1) Sample hyper‐params ────────────────────────────────────────\n",
        "    lr          = trial.suggest_loguniform(\"lr\", 1e-5, 1e-3)\n",
        "    hidden_size = trial.suggest_categorical(\"hidden_size\", [32, 64, 128, 256])\n",
        "    batch_size  = trial.suggest_categorical(\"batch_size\", [64, 128, 256])\n",
        "\n",
        "    # ── Fixed settings ────────────────────────────────────────────────\n",
        "    seq_len, horizon, num_layers = 48, 1, 2\n",
        "    model_name, scaler_used, loss_used = \"SA_BiLSTM\", \"MaxAbs\", \"Huber\"\n",
        "    beta, max_epochs, patience = 0.01, 20, 10  # shorter for speed\n",
        "\n",
        "    # report start\n",
        "    print(f\"\\n→ Trial {trial.number}: lr={lr:.2e}, hidden={hidden_size}, bs={batch_size}\")\n",
        "\n",
        "    # ── 2) Data prep ──────────────────────────────────────────────────\n",
        "    transformer = ColumnTransformer(\n",
        "        [(\"scale\", TRANSFORMER_FACTORY[scaler_used](), other_feats)],\n",
        "        remainder=\"passthrough\", verbose_feature_names_out=False\n",
        "    )\n",
        "    X_tr = transformer.fit_transform(X_train)\n",
        "    X_va = transformer.transform(X_val)\n",
        "\n",
        "    scaler_y = TRANSFORMER_FACTORY[scaler_used]()\\\n",
        "                   .fit(y_train.values.reshape(-1,1))\n",
        "    y_tr = scaler_y.transform(y_train.values.reshape(-1,1)).ravel()\n",
        "    y_va = scaler_y.transform(y_val.values.reshape(-1,1)).ravel()\n",
        "\n",
        "    tr_lo = DataLoader(\n",
        "        LSTMDataset(X_tr, y_tr, seq_len, horizon),\n",
        "        batch_size=batch_size, shuffle=True,  pin_memory=True\n",
        "    )\n",
        "    va_lo = DataLoader(\n",
        "        LSTMDataset(X_va, y_va, seq_len, horizon),\n",
        "        batch_size=batch_size, shuffle=False, pin_memory=True\n",
        "    )\n",
        "\n",
        "    # ── 3) Model / Optimizer / Loss / Scheduler ───────────────────────\n",
        "    model     = MODEL_FACTORY[model_name](\n",
        "                    num_feats=X_tr.shape[1],\n",
        "                    seq_len=seq_len,\n",
        "                    hidden_size=hidden_size,\n",
        "                    num_layers=num_layers\n",
        "                ).to(device)\n",
        "    optimizer = torch.optim.Adam(model.parameters(), lr=lr)\n",
        "    criterion = (LOSS_FACTORY[loss_used](beta=beta)\n",
        "                 if loss_used==\"Huber\"\n",
        "                 else LOSS_FACTORY[loss_used]())\n",
        "    # scheduler = torch.optim.lr_scheduler.ReduceLROnPlateau(\n",
        "    #                 optimizer, mode=\"min\", factor=0.5,\n",
        "    #                 patience=5, min_lr=1e-7\n",
        "    #             )\n",
        "\n",
        "    best_val = float(\"inf\")\n",
        "    epochs_no_improve = 0\n",
        "\n",
        "    # ── 4) Training w/ pruning & prints ───────────────────────────────\n",
        "    for epoch in range(1, max_epochs+1):\n",
        "        # — train —\n",
        "        model.train()\n",
        "        tr_loss = 0.0\n",
        "        for xb, yb in tr_lo:\n",
        "            xb, yb = xb.to(device), yb.to(device)\n",
        "            optimizer.zero_grad()\n",
        "            loss = criterion(model(xb).squeeze(-1), yb)\n",
        "            loss.backward()\n",
        "            optimizer.step()\n",
        "            tr_loss += loss.item()\n",
        "        tr_loss /= len(tr_lo)\n",
        "\n",
        "        # — validate —\n",
        "        model.eval()\n",
        "        va_loss = 0.0\n",
        "        with torch.no_grad():\n",
        "            for xb, yb in va_lo:\n",
        "                xb, yb = xb.to(device), yb.to(device)\n",
        "                va_loss += criterion(model(xb).squeeze(-1), yb).item()\n",
        "        va_loss /= len(va_lo)\n",
        "\n",
        "        # — scheduler & LR print —\n",
        "        # scheduler.step(va_loss)\n",
        "        # current_lr = scheduler.get_last_lr()[0]\n",
        "        print(\n",
        "            f\"[Trial {trial.number}] \"\n",
        "            f\"Epoch {epoch:02d}/{max_epochs}  \"\n",
        "            # f\"lr={current_lr:.2e}  \"\n",
        "            f\"train={tr_loss:.4f}  val={va_loss:.4f}\"\n",
        "        )\n",
        "\n",
        "        # — report & prune —\n",
        "        trial.report(va_loss, epoch)\n",
        "        if trial.should_prune():\n",
        "            print(f\"→ Trial {trial.number} pruned at epoch {epoch}\")\n",
        "            raise optuna.TrialPruned()\n",
        "\n",
        "        # — manual early stopping —\n",
        "        if va_loss < best_val:\n",
        "            best_val = va_loss\n",
        "            epochs_no_improve = 0\n",
        "            best_weights = copy.deepcopy(model.state_dict())\n",
        "        else:\n",
        "            epochs_no_improve += 1\n",
        "            if epochs_no_improve >= patience:\n",
        "                print(f\"→ Trial {trial.number} early-stopped at epoch {epoch}\")\n",
        "                break\n",
        "\n",
        "    # ── 5) Load best & compute final metrics on validation set ─────────\n",
        "    model.load_state_dict(best_weights)\n",
        "    model.eval()\n",
        "    scaled_preds, scaled_trues = [], []\n",
        "    with torch.no_grad():\n",
        "        for xb, yb in va_lo:\n",
        "            xb = xb.to(device)\n",
        "            p  = model(xb).squeeze(-1).cpu().numpy()\n",
        "            scaled_preds.append(p)\n",
        "            scaled_trues.append(yb.numpy())\n",
        "    scaled_preds = np.concatenate(scaled_preds)\n",
        "    scaled_trues = np.concatenate(scaled_trues)\n",
        "\n",
        "    # invert scaling\n",
        "    preds = scaler_y.inverse_transform(scaled_preds.reshape(-1,1)).flatten()\n",
        "    trues = scaler_y.inverse_transform(scaled_trues.reshape(-1,1)).flatten()\n",
        "    err   = trues - preds\n",
        "\n",
        "    mae   = mean_absolute_error(trues, preds)\n",
        "    rmse  = np.sqrt(mean_squared_error(trues, preds))\n",
        "    smape = np.mean(2*np.abs(err)/(np.abs(trues)+np.abs(preds)+1e-8))*100\n",
        "\n",
        "    print(\n",
        "        f\"→ Trial {trial.number} finished: \"\n",
        "        f\"best_val={best_val:.4f}  \"\n",
        "        f\"MAE={mae:.4f}  RMSE={rmse:.4f}  sMAPE={smape:.2f}%\"\n",
        "    )\n",
        "\n",
        "    # store metrics\n",
        "    trial.set_user_attr(\"val_mae\", mae)\n",
        "    trial.set_user_attr(\"val_rmse\", rmse)\n",
        "    trial.set_user_attr(\"val_smape\", smape)\n",
        "\n",
        "    return best_val\n",
        "\n",
        "\n",
        "# ── Run Stage 1 ───────────────────────────────────────────────────────\n",
        "study1 = optuna.create_study(\n",
        "    direction=\"minimize\",\n",
        "    sampler=TPESampler(),\n",
        "    pruner=MedianPruner(n_startup_trials=5, n_warmup_steps=5)\n",
        ")\n",
        "study1.optimize(objective_stage1, n_trials=30)\n",
        "print(\"✔ Stage 1 done:\", study1.best_params, \"val_loss=\", study1.best_value)\n"
      ]
    },
    {
      "cell_type": "code",
      "source": [],
      "metadata": {
        "id": "jFGZd2quw1H_"
      },
      "id": "jFGZd2quw1H_",
      "execution_count": null,
      "outputs": []
    }
  ],
  "metadata": {
    "kernelspec": {
      "display_name": "Python (thesis)",
      "language": "python",
      "name": "thesis"
    },
    "language_info": {
      "codemirror_mode": {
        "name": "ipython",
        "version": 3
      },
      "file_extension": ".py",
      "mimetype": "text/x-python",
      "name": "python",
      "nbconvert_exporter": "python",
      "pygments_lexer": "ipython3",
      "version": "3.10.18"
    },
    "colab": {
      "provenance": []
    }
  },
  "nbformat": 4,
  "nbformat_minor": 5
}